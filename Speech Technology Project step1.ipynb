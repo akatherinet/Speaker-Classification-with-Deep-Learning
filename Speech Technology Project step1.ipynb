{
 "cells": [
  {
   "cell_type": "code",
   "execution_count": null,
   "id": "7fe24d1f",
   "metadata": {},
   "outputs": [],
   "source": [
    "# This code separates the audio files from the transcription and text files in the dataset and saves the audio separately"
   ]
  },
  {
   "cell_type": "code",
   "execution_count": 1,
   "id": "4013de4c",
   "metadata": {},
   "outputs": [],
   "source": [
    "import os\n",
    "import shutil"
   ]
  },
  {
   "cell_type": "code",
   "execution_count": 9,
   "id": "265e8a06",
   "metadata": {},
   "outputs": [],
   "source": [
    "speaker_list = get_speaker_roots_in_data_path()"
   ]
  },
  {
   "cell_type": "code",
   "execution_count": 10,
   "id": "6bb433ed",
   "metadata": {},
   "outputs": [],
   "source": [
    "def get_wav_files_in_path(datapath):\n",
    "\n",
    "    files = os.listdir(datapath)\n",
    "\n",
    "    files_wav = [os.path.join(datapath, i) for i in files if i.startswith('shortpassage') and i.endswith('.wav')]\n",
    "\n",
    "    return files_wav"
   ]
  },
  {
   "cell_type": "code",
   "execution_count": 11,
   "id": "0df6fd1d",
   "metadata": {},
   "outputs": [],
   "source": [
    "wav_files_path = [f for speaker in speaker_list for f in get_wav_files_in_path(speaker)]"
   ]
  },
  {
   "cell_type": "code",
   "execution_count": 12,
   "id": "56f0aca3",
   "metadata": {},
   "outputs": [],
   "source": [
    "new_corpus_path = 'C:\\\\Users\\\\akath\\\\Documents\\\\LCT master\\\\Speech Technology\\\\my dataset'\n",
    "\n",
    "for file in wav_files_path:\n",
    "    speaker_dir = os.path.join(new_corpus_path, file.split(os.path.sep)[-2])\n",
    "    file_name = file.split(os.path.sep)[-1]\n",
    "\n",
    "    if not os.path.exists(speaker_dir):\n",
    "        os.makedirs(speaker_dir)\n",
    "\n",
    "    shutil.copyfile(file, os.path.join(speaker_dir, file_name))"
   ]
  },
  {
   "cell_type": "code",
   "execution_count": 6,
   "id": "088ce0bc",
   "metadata": {},
   "outputs": [],
   "source": [
    "def get_speaker_roots_in_data_path(datapath='C:\\\\Users\\\\akath\\\\Documents\\\\LCT master\\\\Speech Technology\\\\ABI-1 Corpus\\\\accents'):\n",
    "\n",
    "    speaker_list = []\n",
    "\n",
    "    accent_subfolders = [f.path for f in os.scandir(datapath) if f.is_dir()]\n",
    "\n",
    "    for accent in accent_subfolders:\n",
    "\n",
    "        for gender in ['female', 'male']:\n",
    "\n",
    "            speaker_folders = os.listdir(os.path.join(accent, gender))\n",
    "\n",
    "            for speaker in speaker_folders:\n",
    "\n",
    "                if not speaker.startswith('.'):\n",
    "\n",
    "                    speaker_list.append(os.path.join(accent, gender, speaker))\n",
    "\n",
    "    return speaker_list"
   ]
  },
  {
   "cell_type": "code",
   "execution_count": null,
   "id": "1488beb2",
   "metadata": {},
   "outputs": [],
   "source": [
    "#At this point, I switched to Google Colab for the necessary processing power."
   ]
  }
 ],
 "metadata": {
  "kernelspec": {
   "display_name": "Python 3 (ipykernel)",
   "language": "python",
   "name": "python3"
  },
  "language_info": {
   "codemirror_mode": {
    "name": "ipython",
    "version": 3
   },
   "file_extension": ".py",
   "mimetype": "text/x-python",
   "name": "python",
   "nbconvert_exporter": "python",
   "pygments_lexer": "ipython3",
   "version": "3.11.5"
  }
 },
 "nbformat": 4,
 "nbformat_minor": 5
}
